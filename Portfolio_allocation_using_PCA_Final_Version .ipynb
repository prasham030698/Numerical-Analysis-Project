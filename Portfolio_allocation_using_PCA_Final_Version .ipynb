{
  "nbformat": 4,
  "nbformat_minor": 0,
  "metadata": {
    "colab": {
      "provenance": []
    },
    "kernelspec": {
      "name": "python3",
      "display_name": "Python 3"
    },
    "language_info": {
      "name": "python"
    }
  },
  "cells": [
    {
      "cell_type": "markdown",
      "source": [
        "Install Libraries"
      ],
      "metadata": {
        "id": "qgGymxyEWuwi"
      }
    },
    {
      "cell_type": "code",
      "execution_count": null,
      "metadata": {
        "id": "58rXPUSkOG6L"
      },
      "outputs": [],
      "source": [
        "pip install yfinance"
      ]
    },
    {
      "cell_type": "code",
      "source": [
        "import pandas as pd\n",
        "import numpy as np\n",
        "import yfinance as yf\n",
        "yf.pdr_override() # <== that's all it takes :-)\n",
        "from pandas_datareader import data as pdr\n"
      ],
      "metadata": {
        "id": "F1pYV-svOPy_"
      },
      "execution_count": 2,
      "outputs": []
    },
    {
      "cell_type": "code",
      "source": [
        "from matplotlib import pyplot as plt\n",
        "import seaborn as sns\n",
        "import scipy.cluster.hierarchy as sch\n",
        "import scipy.spatial.distance as ssd\n",
        "from scipy.optimize import minimize\n",
        "import warnings\n",
        "from collections import OrderedDict\n",
        "import datetime as dt\n",
        "from sklearn.decomposition import PCA"
      ],
      "metadata": {
        "id": "YYIkxSG-OSvN"
      },
      "execution_count": 3,
      "outputs": []
    },
    {
      "cell_type": "markdown",
      "source": [
        "Pick stocks and time period"
      ],
      "metadata": {
        "id": "UTEbOf5mWzd6"
      }
    },
    {
      "cell_type": "code",
      "source": [
        "ticks = ['TSLA','NVDA','AMZN','JNJ','AAPL','XOM','JPM','TGT','LMT','COST']\n",
        "total_stocks = len(ticks)\n",
        "start_date = '2016-01-01'\n",
        "end_date = '2023-10-31'\n",
        "\n",
        "# Training and Testing Periods\n",
        "train_start_date = '2016-01-01'\n",
        "train_end_date = '2022-01-01'\n",
        "\n",
        "test_start_date = '2022-01-01'\n",
        "test_end_date = '2023-10-31'\n",
        "\n",
        "trading_days = 252\n",
        "\n",
        "training_period = trading_days*5\n",
        "\n",
        "portfolio_current_value = 2000000 # 2 Million USD"
      ],
      "metadata": {
        "id": "kth9M3HCOXg3"
      },
      "execution_count": 4,
      "outputs": []
    },
    {
      "cell_type": "markdown",
      "source": [
        "Fetch data from Yahoo Finance"
      ],
      "metadata": {
        "id": "hubVjvV-WiPh"
      }
    },
    {
      "cell_type": "code",
      "source": [
        "price_data = pdr.get_data_yahoo(ticks,start=start_date,end=end_date)['Adj Close']"
      ],
      "metadata": {
        "colab": {
          "base_uri": "https://localhost:8080/"
        },
        "id": "itwuyjMcOZyC",
        "outputId": "339a5604-3d9a-4e4c-d964-b6dc0ec05c19"
      },
      "execution_count": 5,
      "outputs": [
        {
          "output_type": "stream",
          "name": "stdout",
          "text": [
            "[*********************100%%**********************]  10 of 10 completed\n"
          ]
        }
      ]
    },
    {
      "cell_type": "markdown",
      "source": [
        "Normalization of stock prices (Adjusted Close Price)"
      ],
      "metadata": {
        "id": "KDMOBQRhW7Ri"
      }
    },
    {
      "cell_type": "code",
      "source": [
        "daily_returns = price_data.pct_change()\n",
        "daily_returns.head()"
      ],
      "metadata": {
        "colab": {
          "base_uri": "https://localhost:8080/",
          "height": 237
        },
        "id": "ESHDewO2Ob72",
        "outputId": "60fc8613-858b-4656-c42a-5982f4725a1a"
      },
      "execution_count": 6,
      "outputs": [
        {
          "output_type": "execute_result",
          "data": {
            "text/plain": [
              "                AAPL      AMZN      COST       JNJ       JPM       LMT  \\\n",
              "Date                                                                     \n",
              "2016-01-04       NaN       NaN       NaN       NaN       NaN       NaN   \n",
              "2016-01-05 -0.025059 -0.005024  0.002445  0.004180  0.001729  0.023685   \n",
              "2016-01-06 -0.019570 -0.001799 -0.009254 -0.005055 -0.014436 -0.002886   \n",
              "2016-01-07 -0.042205 -0.039058 -0.022909 -0.011655 -0.040440 -0.019942   \n",
              "2016-01-08  0.005288 -0.001464 -0.017504 -0.010683 -0.022399 -0.001782   \n",
              "\n",
              "                NVDA       TGT      TSLA       XOM  \n",
              "Date                                                \n",
              "2016-01-04       NaN       NaN       NaN       NaN  \n",
              "2016-01-05  0.016064  0.017539  0.000090  0.008521  \n",
              "2016-01-06 -0.041350 -0.010155 -0.019648 -0.008320  \n",
              "2016-01-07 -0.039645 -0.002700 -0.015477 -0.016006  \n",
              "2016-01-08 -0.021466 -0.033838 -0.021563 -0.020202  "
            ],
            "text/html": [
              "\n",
              "  <div id=\"df-c2026f85-68fe-4336-853b-e9932c7ecb2e\" class=\"colab-df-container\">\n",
              "    <div>\n",
              "<style scoped>\n",
              "    .dataframe tbody tr th:only-of-type {\n",
              "        vertical-align: middle;\n",
              "    }\n",
              "\n",
              "    .dataframe tbody tr th {\n",
              "        vertical-align: top;\n",
              "    }\n",
              "\n",
              "    .dataframe thead th {\n",
              "        text-align: right;\n",
              "    }\n",
              "</style>\n",
              "<table border=\"1\" class=\"dataframe\">\n",
              "  <thead>\n",
              "    <tr style=\"text-align: right;\">\n",
              "      <th></th>\n",
              "      <th>AAPL</th>\n",
              "      <th>AMZN</th>\n",
              "      <th>COST</th>\n",
              "      <th>JNJ</th>\n",
              "      <th>JPM</th>\n",
              "      <th>LMT</th>\n",
              "      <th>NVDA</th>\n",
              "      <th>TGT</th>\n",
              "      <th>TSLA</th>\n",
              "      <th>XOM</th>\n",
              "    </tr>\n",
              "    <tr>\n",
              "      <th>Date</th>\n",
              "      <th></th>\n",
              "      <th></th>\n",
              "      <th></th>\n",
              "      <th></th>\n",
              "      <th></th>\n",
              "      <th></th>\n",
              "      <th></th>\n",
              "      <th></th>\n",
              "      <th></th>\n",
              "      <th></th>\n",
              "    </tr>\n",
              "  </thead>\n",
              "  <tbody>\n",
              "    <tr>\n",
              "      <th>2016-01-04</th>\n",
              "      <td>NaN</td>\n",
              "      <td>NaN</td>\n",
              "      <td>NaN</td>\n",
              "      <td>NaN</td>\n",
              "      <td>NaN</td>\n",
              "      <td>NaN</td>\n",
              "      <td>NaN</td>\n",
              "      <td>NaN</td>\n",
              "      <td>NaN</td>\n",
              "      <td>NaN</td>\n",
              "    </tr>\n",
              "    <tr>\n",
              "      <th>2016-01-05</th>\n",
              "      <td>-0.025059</td>\n",
              "      <td>-0.005024</td>\n",
              "      <td>0.002445</td>\n",
              "      <td>0.004180</td>\n",
              "      <td>0.001729</td>\n",
              "      <td>0.023685</td>\n",
              "      <td>0.016064</td>\n",
              "      <td>0.017539</td>\n",
              "      <td>0.000090</td>\n",
              "      <td>0.008521</td>\n",
              "    </tr>\n",
              "    <tr>\n",
              "      <th>2016-01-06</th>\n",
              "      <td>-0.019570</td>\n",
              "      <td>-0.001799</td>\n",
              "      <td>-0.009254</td>\n",
              "      <td>-0.005055</td>\n",
              "      <td>-0.014436</td>\n",
              "      <td>-0.002886</td>\n",
              "      <td>-0.041350</td>\n",
              "      <td>-0.010155</td>\n",
              "      <td>-0.019648</td>\n",
              "      <td>-0.008320</td>\n",
              "    </tr>\n",
              "    <tr>\n",
              "      <th>2016-01-07</th>\n",
              "      <td>-0.042205</td>\n",
              "      <td>-0.039058</td>\n",
              "      <td>-0.022909</td>\n",
              "      <td>-0.011655</td>\n",
              "      <td>-0.040440</td>\n",
              "      <td>-0.019942</td>\n",
              "      <td>-0.039645</td>\n",
              "      <td>-0.002700</td>\n",
              "      <td>-0.015477</td>\n",
              "      <td>-0.016006</td>\n",
              "    </tr>\n",
              "    <tr>\n",
              "      <th>2016-01-08</th>\n",
              "      <td>0.005288</td>\n",
              "      <td>-0.001464</td>\n",
              "      <td>-0.017504</td>\n",
              "      <td>-0.010683</td>\n",
              "      <td>-0.022399</td>\n",
              "      <td>-0.001782</td>\n",
              "      <td>-0.021466</td>\n",
              "      <td>-0.033838</td>\n",
              "      <td>-0.021563</td>\n",
              "      <td>-0.020202</td>\n",
              "    </tr>\n",
              "  </tbody>\n",
              "</table>\n",
              "</div>\n",
              "    <div class=\"colab-df-buttons\">\n",
              "\n",
              "  <div class=\"colab-df-container\">\n",
              "    <button class=\"colab-df-convert\" onclick=\"convertToInteractive('df-c2026f85-68fe-4336-853b-e9932c7ecb2e')\"\n",
              "            title=\"Convert this dataframe to an interactive table.\"\n",
              "            style=\"display:none;\">\n",
              "\n",
              "  <svg xmlns=\"http://www.w3.org/2000/svg\" height=\"24px\" viewBox=\"0 -960 960 960\">\n",
              "    <path d=\"M120-120v-720h720v720H120Zm60-500h600v-160H180v160Zm220 220h160v-160H400v160Zm0 220h160v-160H400v160ZM180-400h160v-160H180v160Zm440 0h160v-160H620v160ZM180-180h160v-160H180v160Zm440 0h160v-160H620v160Z\"/>\n",
              "  </svg>\n",
              "    </button>\n",
              "\n",
              "  <style>\n",
              "    .colab-df-container {\n",
              "      display:flex;\n",
              "      gap: 12px;\n",
              "    }\n",
              "\n",
              "    .colab-df-convert {\n",
              "      background-color: #E8F0FE;\n",
              "      border: none;\n",
              "      border-radius: 50%;\n",
              "      cursor: pointer;\n",
              "      display: none;\n",
              "      fill: #1967D2;\n",
              "      height: 32px;\n",
              "      padding: 0 0 0 0;\n",
              "      width: 32px;\n",
              "    }\n",
              "\n",
              "    .colab-df-convert:hover {\n",
              "      background-color: #E2EBFA;\n",
              "      box-shadow: 0px 1px 2px rgba(60, 64, 67, 0.3), 0px 1px 3px 1px rgba(60, 64, 67, 0.15);\n",
              "      fill: #174EA6;\n",
              "    }\n",
              "\n",
              "    .colab-df-buttons div {\n",
              "      margin-bottom: 4px;\n",
              "    }\n",
              "\n",
              "    [theme=dark] .colab-df-convert {\n",
              "      background-color: #3B4455;\n",
              "      fill: #D2E3FC;\n",
              "    }\n",
              "\n",
              "    [theme=dark] .colab-df-convert:hover {\n",
              "      background-color: #434B5C;\n",
              "      box-shadow: 0px 1px 3px 1px rgba(0, 0, 0, 0.15);\n",
              "      filter: drop-shadow(0px 1px 2px rgba(0, 0, 0, 0.3));\n",
              "      fill: #FFFFFF;\n",
              "    }\n",
              "  </style>\n",
              "\n",
              "    <script>\n",
              "      const buttonEl =\n",
              "        document.querySelector('#df-c2026f85-68fe-4336-853b-e9932c7ecb2e button.colab-df-convert');\n",
              "      buttonEl.style.display =\n",
              "        google.colab.kernel.accessAllowed ? 'block' : 'none';\n",
              "\n",
              "      async function convertToInteractive(key) {\n",
              "        const element = document.querySelector('#df-c2026f85-68fe-4336-853b-e9932c7ecb2e');\n",
              "        const dataTable =\n",
              "          await google.colab.kernel.invokeFunction('convertToInteractive',\n",
              "                                                    [key], {});\n",
              "        if (!dataTable) return;\n",
              "\n",
              "        const docLinkHtml = 'Like what you see? Visit the ' +\n",
              "          '<a target=\"_blank\" href=https://colab.research.google.com/notebooks/data_table.ipynb>data table notebook</a>'\n",
              "          + ' to learn more about interactive tables.';\n",
              "        element.innerHTML = '';\n",
              "        dataTable['output_type'] = 'display_data';\n",
              "        await google.colab.output.renderOutput(dataTable, element);\n",
              "        const docLink = document.createElement('div');\n",
              "        docLink.innerHTML = docLinkHtml;\n",
              "        element.appendChild(docLink);\n",
              "      }\n",
              "    </script>\n",
              "  </div>\n",
              "\n",
              "\n",
              "<div id=\"df-cb61195c-795b-46e8-bd2c-c88904647d1b\">\n",
              "  <button class=\"colab-df-quickchart\" onclick=\"quickchart('df-cb61195c-795b-46e8-bd2c-c88904647d1b')\"\n",
              "            title=\"Suggest charts\"\n",
              "            style=\"display:none;\">\n",
              "\n",
              "<svg xmlns=\"http://www.w3.org/2000/svg\" height=\"24px\"viewBox=\"0 0 24 24\"\n",
              "     width=\"24px\">\n",
              "    <g>\n",
              "        <path d=\"M19 3H5c-1.1 0-2 .9-2 2v14c0 1.1.9 2 2 2h14c1.1 0 2-.9 2-2V5c0-1.1-.9-2-2-2zM9 17H7v-7h2v7zm4 0h-2V7h2v10zm4 0h-2v-4h2v4z\"/>\n",
              "    </g>\n",
              "</svg>\n",
              "  </button>\n",
              "\n",
              "<style>\n",
              "  .colab-df-quickchart {\n",
              "      --bg-color: #E8F0FE;\n",
              "      --fill-color: #1967D2;\n",
              "      --hover-bg-color: #E2EBFA;\n",
              "      --hover-fill-color: #174EA6;\n",
              "      --disabled-fill-color: #AAA;\n",
              "      --disabled-bg-color: #DDD;\n",
              "  }\n",
              "\n",
              "  [theme=dark] .colab-df-quickchart {\n",
              "      --bg-color: #3B4455;\n",
              "      --fill-color: #D2E3FC;\n",
              "      --hover-bg-color: #434B5C;\n",
              "      --hover-fill-color: #FFFFFF;\n",
              "      --disabled-bg-color: #3B4455;\n",
              "      --disabled-fill-color: #666;\n",
              "  }\n",
              "\n",
              "  .colab-df-quickchart {\n",
              "    background-color: var(--bg-color);\n",
              "    border: none;\n",
              "    border-radius: 50%;\n",
              "    cursor: pointer;\n",
              "    display: none;\n",
              "    fill: var(--fill-color);\n",
              "    height: 32px;\n",
              "    padding: 0;\n",
              "    width: 32px;\n",
              "  }\n",
              "\n",
              "  .colab-df-quickchart:hover {\n",
              "    background-color: var(--hover-bg-color);\n",
              "    box-shadow: 0 1px 2px rgba(60, 64, 67, 0.3), 0 1px 3px 1px rgba(60, 64, 67, 0.15);\n",
              "    fill: var(--button-hover-fill-color);\n",
              "  }\n",
              "\n",
              "  .colab-df-quickchart-complete:disabled,\n",
              "  .colab-df-quickchart-complete:disabled:hover {\n",
              "    background-color: var(--disabled-bg-color);\n",
              "    fill: var(--disabled-fill-color);\n",
              "    box-shadow: none;\n",
              "  }\n",
              "\n",
              "  .colab-df-spinner {\n",
              "    border: 2px solid var(--fill-color);\n",
              "    border-color: transparent;\n",
              "    border-bottom-color: var(--fill-color);\n",
              "    animation:\n",
              "      spin 1s steps(1) infinite;\n",
              "  }\n",
              "\n",
              "  @keyframes spin {\n",
              "    0% {\n",
              "      border-color: transparent;\n",
              "      border-bottom-color: var(--fill-color);\n",
              "      border-left-color: var(--fill-color);\n",
              "    }\n",
              "    20% {\n",
              "      border-color: transparent;\n",
              "      border-left-color: var(--fill-color);\n",
              "      border-top-color: var(--fill-color);\n",
              "    }\n",
              "    30% {\n",
              "      border-color: transparent;\n",
              "      border-left-color: var(--fill-color);\n",
              "      border-top-color: var(--fill-color);\n",
              "      border-right-color: var(--fill-color);\n",
              "    }\n",
              "    40% {\n",
              "      border-color: transparent;\n",
              "      border-right-color: var(--fill-color);\n",
              "      border-top-color: var(--fill-color);\n",
              "    }\n",
              "    60% {\n",
              "      border-color: transparent;\n",
              "      border-right-color: var(--fill-color);\n",
              "    }\n",
              "    80% {\n",
              "      border-color: transparent;\n",
              "      border-right-color: var(--fill-color);\n",
              "      border-bottom-color: var(--fill-color);\n",
              "    }\n",
              "    90% {\n",
              "      border-color: transparent;\n",
              "      border-bottom-color: var(--fill-color);\n",
              "    }\n",
              "  }\n",
              "</style>\n",
              "\n",
              "  <script>\n",
              "    async function quickchart(key) {\n",
              "      const quickchartButtonEl =\n",
              "        document.querySelector('#' + key + ' button');\n",
              "      quickchartButtonEl.disabled = true;  // To prevent multiple clicks.\n",
              "      quickchartButtonEl.classList.add('colab-df-spinner');\n",
              "      try {\n",
              "        const charts = await google.colab.kernel.invokeFunction(\n",
              "            'suggestCharts', [key], {});\n",
              "      } catch (error) {\n",
              "        console.error('Error during call to suggestCharts:', error);\n",
              "      }\n",
              "      quickchartButtonEl.classList.remove('colab-df-spinner');\n",
              "      quickchartButtonEl.classList.add('colab-df-quickchart-complete');\n",
              "    }\n",
              "    (() => {\n",
              "      let quickchartButtonEl =\n",
              "        document.querySelector('#df-cb61195c-795b-46e8-bd2c-c88904647d1b button');\n",
              "      quickchartButtonEl.style.display =\n",
              "        google.colab.kernel.accessAllowed ? 'block' : 'none';\n",
              "    })();\n",
              "  </script>\n",
              "</div>\n",
              "    </div>\n",
              "  </div>\n"
            ]
          },
          "metadata": {},
          "execution_count": 6
        }
      ]
    },
    {
      "cell_type": "markdown",
      "source": [
        "Splitting data into Training(75%) and Testing Dataset (25%)\n",
        "\n",
        "---\n",
        "\n"
      ],
      "metadata": {
        "id": "38G8dQ2QXEGM"
      }
    },
    {
      "cell_type": "code",
      "source": [
        "training_returns = daily_returns[daily_returns.index <= train_end_date]\n",
        "testing_returns  = daily_returns[daily_returns.index > train_end_date]\n",
        "\n",
        "print(\"training length:\",len(training_returns),\"testing length:\",len(testing_returns))"
      ],
      "metadata": {
        "colab": {
          "base_uri": "https://localhost:8080/"
        },
        "id": "F-0fEUZAOd8V",
        "outputId": "834face1-3a14-4976-f4b5-40625dda739b"
      },
      "execution_count": 7,
      "outputs": [
        {
          "output_type": "stream",
          "name": "stdout",
          "text": [
            "training length: 1511 testing length: 459\n"
          ]
        }
      ]
    },
    {
      "cell_type": "markdown",
      "source": [
        "Covariance matrix from training normalized returns"
      ],
      "metadata": {
        "id": "eU6hUlvHXUGu"
      }
    },
    {
      "cell_type": "code",
      "source": [
        "covariance_returns = training_returns.cov()"
      ],
      "metadata": {
        "id": "_2Q2_bRiOklo"
      },
      "execution_count": 8,
      "outputs": []
    },
    {
      "cell_type": "markdown",
      "source": [
        "PCA with inbuilt libraries"
      ],
      "metadata": {
        "id": "gHZxTFPdXcCA"
      }
    },
    {
      "cell_type": "code",
      "source": [
        "pca = PCA()\n",
        "pca.fit(covariance_returns)\n",
        "factor_loading = pca.components_\n",
        "print(\"The matrix of Eigen Vectors has the shape: %s\"%str(factor_loading.shape))\n",
        "\n",
        "eigen_vals = pca.explained_variance_\n",
        "print(\"The eigen values of the matrix: %s\"% str(eigen_vals))"
      ],
      "metadata": {
        "colab": {
          "base_uri": "https://localhost:8080/"
        },
        "id": "goRkuwxLOg1t",
        "outputId": "d6e36c7e-a51d-4961-f292-20329857574a"
      },
      "execution_count": 9,
      "outputs": [
        {
          "output_type": "stream",
          "name": "stdout",
          "text": [
            "The matrix of Eigen Vectors has the shape: (10, 10)\n",
            "The eigen values of the matrix: [1.64572782e-07 4.39225995e-08 1.32084507e-08 7.92752110e-09\n",
            " 3.83564960e-09 2.23461245e-09 1.52414227e-09 1.26570250e-09\n",
            " 7.11227671e-10 5.73216771e-41]\n"
          ]
        }
      ]
    },
    {
      "cell_type": "code",
      "source": [
        "\n",
        "def eigen_portfolio_inbuilt_libraries(eigen_prices):\n",
        "  ereturn = eigen_prices.pct_change()\n",
        "  ecov = ereturn.cov()\n",
        "  epca = PCA()\n",
        "  epca.fit(ecov)\n",
        "\n",
        "  efactor_loadings = epca.components_\n",
        "\n",
        "  eigen_values = epca.explained_variance_\n",
        "  return OrderedDict(zip(ticks,efactor_loadings[0]/np.sum(efactor_loadings[0])))"
      ],
      "metadata": {
        "id": "PGuEoMiuU1as"
      },
      "execution_count": 10,
      "outputs": []
    },
    {
      "cell_type": "markdown",
      "source": [
        "PCA without using libraries for k = 10 Principal components"
      ],
      "metadata": {
        "id": "Fn50Q6d0XiLU"
      }
    },
    {
      "cell_type": "code",
      "source": [
        "def mean_normalize(data):\n",
        "    mean = np.mean(data, axis=0)\n",
        "    normalized_data = data - mean\n",
        "    return normalized_data, mean\n",
        "\n",
        "def compute_covariance_matrix(data):\n",
        "    num_samples = data.shape[0]\n",
        "    covariance_matrix = np.dot(data.T, data) / (num_samples - 1)\n",
        "    return covariance_matrix\n",
        "\n",
        "def pca_without(data, num_components):\n",
        "    # Step 1: Mean normalization\n",
        "    normalized_data, mean = mean_normalize(data)\n",
        "\n",
        "    # Step 2: Compute the covariance matrix\n",
        "    covariance_matrix = compute_covariance_matrix(normalized_data)\n",
        "\n",
        "    # Step 3: Compute eigenvalues and eigenvectors of the covariance matrix\n",
        "    eigenvalues, eigenvectors = np.linalg.eig(covariance_matrix)\n",
        "\n",
        "    # Step 4: Sort eigenvalues and corresponding eigenvectors in descending order\n",
        "    sorted_indices = np.argsort(eigenvalues)[::-1]\n",
        "    eigenvalues = eigenvalues[sorted_indices]\n",
        "    eigenvectors = eigenvectors[:, sorted_indices]\n",
        "\n",
        "    #Step 4.1 Corrections to limit number of components\n",
        "    eigenvalues = eigenvalues[:num_components]\n",
        "    eigenvectors = eigenvectors.T\n",
        "    eigenvectors = eigenvectors[:num_components]\n",
        "    # Calculate the variance captured by each principal component as a percentage of total variance\n",
        "\n",
        "    variance_captured = np.sum(eigenvalues)\n",
        "\n",
        "    return eigenvectors, eigenvalues, mean, variance_captured"
      ],
      "metadata": {
        "id": "zwfg4H8pOqTU"
      },
      "execution_count": 11,
      "outputs": []
    },
    {
      "cell_type": "code",
      "source": [
        "def eigen_portfolio_without_libraries(prices):\n",
        "  ereturn = prices.pct_change()\n",
        "\n",
        "  ecov = ereturn.cov()\n",
        "\n",
        "  eigenvectors,eigenvalues,  mean, variance_captured = pca_without(ecov, num_components=10)\n",
        "\n",
        "  efactor_loadings = eigenvectors\n",
        "\n",
        "  eigen_values = eigenvalues\n",
        "\n",
        "  explained_variance = variance_captured\n",
        "\n",
        "  return OrderedDict(zip(ticks,efactor_loadings[0]/np.sum(efactor_loadings[0])))"
      ],
      "metadata": {
        "id": "xowVVYqVPO9P"
      },
      "execution_count": 12,
      "outputs": []
    },
    {
      "cell_type": "markdown",
      "source": [
        "Minimum Variance Portfolio using Optimization"
      ],
      "metadata": {
        "id": "-bqmEOsEXuoK"
      }
    },
    {
      "cell_type": "code",
      "source": [
        "def min_variance_portfolio(prices):\n",
        "  min_var_returns = prices.pct_change()\n",
        "  cov_matrix = min_var_returns.cov()\n",
        "  num_assets = len(cov_matrix)\n",
        "  # Define the objective function to minimize (variance of the portfolio)\n",
        "  def portfolio_variance(weights):\n",
        "      return np.dot(weights, np.dot(cov_matrix, weights))\n",
        "\n",
        "  def weight_cons(weights):\n",
        "    return np.sum(weights)-1\n",
        "\n",
        "  bounds_lim = [(0, 1) for x in range(len(min_var_returns.columns))] # change to (-1, 1) if you want to short\n",
        "  init = [1/len(min_var_returns.columns) for i in range(len(min_var_returns.columns))]\n",
        "  constraint = {'type': 'eq', 'fun': weight_cons}\n",
        "\n",
        "  optimal = minimize(fun=portfolio_variance,\n",
        "                       x0=init,\n",
        "                       bounds=bounds_lim,\n",
        "                       constraints=constraint,\n",
        "                       method='SLSQP'\n",
        "                       )\n",
        "\n",
        "  return OrderedDict(zip(ticks,optimal['x']))\n"
      ],
      "metadata": {
        "id": "Cq980uRcjcID"
      },
      "execution_count": 13,
      "outputs": []
    },
    {
      "cell_type": "markdown",
      "source": [
        "defining metrics Sharpe Ratio and YoY return"
      ],
      "metadata": {
        "id": "fv3PKHtTX2bP"
      }
    },
    {
      "cell_type": "code",
      "source": [
        "# Metrics - Portfolio Level\n",
        "def sharpe_ratio(portfolio_returns):\n",
        "  return portfolio_returns.mean()/portfolio_returns.std()*np.sqrt(trading_days)\n",
        "\n",
        "def yoy_return(portfolio_returns):\n",
        "  number_of_years = len(portfolio_returns.index.year.unique())\n",
        "  return np.power((portfolio_returns+1).cumprod().iloc[-1],1/number_of_years)"
      ],
      "metadata": {
        "id": "IH4jJw9XQws9"
      },
      "execution_count": 14,
      "outputs": []
    },
    {
      "cell_type": "markdown",
      "source": [
        "Defining function to back test the performance of each strategy for selected time period"
      ],
      "metadata": {
        "id": "x8adou9xYREv"
      }
    },
    {
      "cell_type": "code",
      "source": [
        "# Portfolio backtesting - Testing period with different strategies\n",
        "def daily_portfolio_value(prices,alloc_func = eigen_portfolio_inbuilt_libraries):\n",
        "\n",
        "\n",
        "  #Creating a dataframe with index for testing period\n",
        "  daily_port_alloc = pd.DataFrame(index=prices.loc[test_start_date:].index,columns=prices.columns)\n",
        "  #daily_port_variance = pd.DataFrame(index=prices.loc[test_start_date:].index,columns='variance')\n",
        "\n",
        "\n",
        "  #identify the first day of each unique month in daily_port_alloc's index and store those days in rebalance_days for the testing period\n",
        "  rebalance_days = daily_port_alloc[~daily_port_alloc.index.to_period('m').duplicated()].index\n",
        "\n",
        "\n",
        "  #Create a dataframe with only rebalance days so that updates weights are added later on\n",
        "  port_alloc_weights = pd.DataFrame(index =rebalance_days,columns=prices.columns)\n",
        "\n",
        "  #portfolio_variance = pd.DataFrame(index =rebalance_days,columns='Variance')\n",
        "\n",
        "  current_portfolio_current_value = portfolio_current_value # 2 million USD\n",
        "\n",
        "  share_allocation = None #default\n",
        "\n",
        "  #print(rebalance_days[2]-dt.timedelta(days=training_period))\n",
        "\n",
        "  for day in rebalance_days:\n",
        "\n",
        "    if share_allocation is not None:\n",
        "       current_portfolio_current_value = (prices.loc[day]*share_allocation).sum()\n",
        "\n",
        "    allocation = alloc_func(prices[day-dt.timedelta(days=training_period):day])   #Taking 1511 Days prior to rebalance day for each month\n",
        "    #print(type(allocation))\n",
        "\n",
        "\n",
        "    #portfolio_variance.loc[day] = captured_variance\n",
        "\n",
        "    port_alloc_weights.loc[day] = allocation #Adding weights calculated in the prior step according to the strategy utilized\n",
        "\n",
        "    share_allocation = (pd.Series(allocation)*current_portfolio_current_value)/prices.loc[day] #multiplying weights to get the actual amount invested\n",
        "\n",
        "    daily_port_alloc.loc[day] = share_allocation # assigning the values to rebalancing days\n",
        "\n",
        "\n",
        "\n",
        "  daily_port_alloc = (daily_port_alloc.ffill()).dropna() #applying same share allocation to the whole period\n",
        "  #daily_port_variance = (daily_port_alloc.ffill()).dropna()\n",
        "\n",
        "  #print(portfolio_variance)\n",
        "\n",
        "  portfolio_each_asset_daily_val = prices.loc[daily_port_alloc.index]*daily_port_alloc\n",
        "\n",
        "  portfolio_daily_val = (portfolio_each_asset_daily_val).sum(axis=1)\n",
        "\n",
        "  portfolio_daily_return = portfolio_daily_val.pct_change()\n",
        "\n",
        "  return {\n",
        "      'sharpe': sharpe_ratio(portfolio_daily_return),\n",
        "      'yearly_ret': yoy_return(portfolio_daily_return),\n",
        "      'portfolio_vals':portfolio_daily_val,\n",
        "      'portfolio_each_asset_daily_val':portfolio_each_asset_daily_val\n",
        "\n",
        "  }\n",
        "\n",
        "  return portfolio_daily_val"
      ],
      "metadata": {
        "id": "4T8v_mYUQ5B8"
      },
      "execution_count": 15,
      "outputs": []
    },
    {
      "cell_type": "markdown",
      "source": [
        "Creating a dictionary to tabulate various strategies and storing the results similarly"
      ],
      "metadata": {
        "id": "mVqWYCtSYfDm"
      }
    },
    {
      "cell_type": "code",
      "source": [
        "strategy_list = {'min_variance_portfolio': min_variance_portfolio,\n",
        "                 'eigen_portfolio_without_libraries k = 10 ':eigen_portfolio_without_libraries,\n",
        "                 'eignen_portfolio_inbuilt k = 10 ':eigen_portfolio_inbuilt_libraries,\n",
        "                 }\n",
        "\n",
        "\n",
        "strategy_results = { key: daily_portfolio_value(price_data,func) for key,func in strategy_list.items()}\n",
        "res = pd.DataFrame(strategy_results).T"
      ],
      "metadata": {
        "id": "3JGxADg1Te2P"
      },
      "execution_count": 16,
      "outputs": []
    },
    {
      "cell_type": "code",
      "source": [
        "return_frame = pd.DataFrame(index=res['portfolio_vals']['min_variance_portfolio'].index)\n",
        "for key in res['portfolio_vals'].keys():\n",
        "\n",
        "  return_frame[key] =res['portfolio_vals'][key]"
      ],
      "metadata": {
        "id": "2hHsDF21Tj1m"
      },
      "execution_count": 17,
      "outputs": []
    },
    {
      "cell_type": "markdown",
      "source": [
        "Portfolio Value for each strategy : x axis - time period. y axis - value in Millions USD"
      ],
      "metadata": {
        "id": "XJIvk3YUYr4_"
      }
    },
    {
      "cell_type": "code",
      "source": [
        "return_frame.plot()"
      ],
      "metadata": {
        "colab": {
          "base_uri": "https://localhost:8080/",
          "height": 466
        },
        "id": "woP7HiJUVwB7",
        "outputId": "b2d648d6-c1de-4cc6-fa84-3bbcf5034c11"
      },
      "execution_count": 18,
      "outputs": [
        {
          "output_type": "execute_result",
          "data": {
            "text/plain": [
              "<Axes: xlabel='Date'>"
            ]
          },
          "metadata": {},
          "execution_count": 18
        },
        {
          "output_type": "display_data",
          "data": {
            "text/plain": [
              "<Figure size 640x480 with 1 Axes>"
            ],
            "image/png": "[encoded data removed]"
          },
          "metadata": {}
        }
      ]
    },
    {
      "cell_type": "markdown",
      "source": [
        "Final Result"
      ],
      "metadata": {
        "id": "FSTWb6DAY7P6"
      }
    },
    {
      "cell_type": "code",
      "source": [
        "res[['sharpe','yearly_ret']]"
      ],
      "metadata": {
        "colab": {
          "base_uri": "https://localhost:8080/",
          "height": 143
        },
        "id": "ggI3REo6Vypb",
        "outputId": "326a4f5a-fcf1-4e73-86eb-b5f137a00b6d"
      },
      "execution_count": 19,
      "outputs": [
        {
          "output_type": "execute_result",
          "data": {
            "text/plain": [
              "                                             sharpe yearly_ret\n",
              "min_variance_portfolio                     0.196091   1.016992\n",
              "eigen_portfolio_without_libraries k = 10   0.593968   1.102808\n",
              "eignen_portfolio_inbuilt k = 10            0.593968   1.102808"
            ],
            "text/html": [
              "\n",
              "  <div id=\"df-36c13933-b4ec-49c5-b747-e651d240fbc5\" class=\"colab-df-container\">\n",
              "    <div>\n",
              "<style scoped>\n",
              "    .dataframe tbody tr th:only-of-type {\n",
              "        vertical-align: middle;\n",
              "    }\n",
              "\n",
              "    .dataframe tbody tr th {\n",
              "        vertical-align: top;\n",
              "    }\n",
              "\n",
              "    .dataframe thead th {\n",
              "        text-align: right;\n",
              "    }\n",
              "</style>\n",
              "<table border=\"1\" class=\"dataframe\">\n",
              "  <thead>\n",
              "    <tr style=\"text-align: right;\">\n",
              "      <th></th>\n",
              "      <th>sharpe</th>\n",
              "      <th>yearly_ret</th>\n",
              "    </tr>\n",
              "  </thead>\n",
              "  <tbody>\n",
              "    <tr>\n",
              "      <th>min_variance_portfolio</th>\n",
              "      <td>0.196091</td>\n",
              "      <td>1.016992</td>\n",
              "    </tr>\n",
              "    <tr>\n",
              "      <th>eigen_portfolio_without_libraries k = 10</th>\n",
              "      <td>0.593968</td>\n",
              "      <td>1.102808</td>\n",
              "    </tr>\n",
              "    <tr>\n",
              "      <th>eignen_portfolio_inbuilt k = 10</th>\n",
              "      <td>0.593968</td>\n",
              "      <td>1.102808</td>\n",
              "    </tr>\n",
              "  </tbody>\n",
              "</table>\n",
              "</div>\n",
              "    <div class=\"colab-df-buttons\">\n",
              "\n",
              "  <div class=\"colab-df-container\">\n",
              "    <button class=\"colab-df-convert\" onclick=\"convertToInteractive('df-36c13933-b4ec-49c5-b747-e651d240fbc5')\"\n",
              "            title=\"Convert this dataframe to an interactive table.\"\n",
              "            style=\"display:none;\">\n",
              "\n",
              "  <svg xmlns=\"http://www.w3.org/2000/svg\" height=\"24px\" viewBox=\"0 -960 960 960\">\n",
              "    <path d=\"M120-120v-720h720v720H120Zm60-500h600v-160H180v160Zm220 220h160v-160H400v160Zm0 220h160v-160H400v160ZM180-400h160v-160H180v160Zm440 0h160v-160H620v160ZM180-180h160v-160H180v160Zm440 0h160v-160H620v160Z\"/>\n",
              "  </svg>\n",
              "    </button>\n",
              "\n",
              "  <style>\n",
              "    .colab-df-container {\n",
              "      display:flex;\n",
              "      gap: 12px;\n",
              "    }\n",
              "\n",
              "    .colab-df-convert {\n",
              "      background-color: #E8F0FE;\n",
              "      border: none;\n",
              "      border-radius: 50%;\n",
              "      cursor: pointer;\n",
              "      display: none;\n",
              "      fill: #1967D2;\n",
              "      height: 32px;\n",
              "      padding: 0 0 0 0;\n",
              "      width: 32px;\n",
              "    }\n",
              "\n",
              "    .colab-df-convert:hover {\n",
              "      background-color: #E2EBFA;\n",
              "      box-shadow: 0px 1px 2px rgba(60, 64, 67, 0.3), 0px 1px 3px 1px rgba(60, 64, 67, 0.15);\n",
              "      fill: #174EA6;\n",
              "    }\n",
              "\n",
              "    .colab-df-buttons div {\n",
              "      margin-bottom: 4px;\n",
              "    }\n",
              "\n",
              "    [theme=dark] .colab-df-convert {\n",
              "      background-color: #3B4455;\n",
              "      fill: #D2E3FC;\n",
              "    }\n",
              "\n",
              "    [theme=dark] .colab-df-convert:hover {\n",
              "      background-color: #434B5C;\n",
              "      box-shadow: 0px 1px 3px 1px rgba(0, 0, 0, 0.15);\n",
              "      filter: drop-shadow(0px 1px 2px rgba(0, 0, 0, 0.3));\n",
              "      fill: #FFFFFF;\n",
              "    }\n",
              "  </style>\n",
              "\n",
              "    <script>\n",
              "      const buttonEl =\n",
              "        document.querySelector('#df-36c13933-b4ec-49c5-b747-e651d240fbc5 button.colab-df-convert');\n",
              "      buttonEl.style.display =\n",
              "        google.colab.kernel.accessAllowed ? 'block' : 'none';\n",
              "\n",
              "      async function convertToInteractive(key) {\n",
              "        const element = document.querySelector('#df-36c13933-b4ec-49c5-b747-e651d240fbc5');\n",
              "        const dataTable =\n",
              "          await google.colab.kernel.invokeFunction('convertToInteractive',\n",
              "                                                    [key], {});\n",
              "        if (!dataTable) return;\n",
              "\n",
              "        const docLinkHtml = 'Like what you see? Visit the ' +\n",
              "          '<a target=\"_blank\" href=https://colab.research.google.com/notebooks/data_table.ipynb>data table notebook</a>'\n",
              "          + ' to learn more about interactive tables.';\n",
              "        element.innerHTML = '';\n",
              "        dataTable['output_type'] = 'display_data';\n",
              "        await google.colab.output.renderOutput(dataTable, element);\n",
              "        const docLink = document.createElement('div');\n",
              "        docLink.innerHTML = docLinkHtml;\n",
              "        element.appendChild(docLink);\n",
              "      }\n",
              "    </script>\n",
              "  </div>\n",
              "\n",
              "\n",
              "<div id=\"df-2a3c37db-f801-436a-9158-ba97e2584c60\">\n",
              "  <button class=\"colab-df-quickchart\" onclick=\"quickchart('df-2a3c37db-f801-436a-9158-ba97e2584c60')\"\n",
              "            title=\"Suggest charts\"\n",
              "            style=\"display:none;\">\n",
              "\n",
              "<svg xmlns=\"http://www.w3.org/2000/svg\" height=\"24px\"viewBox=\"0 0 24 24\"\n",
              "     width=\"24px\">\n",
              "    <g>\n",
              "        <path d=\"M19 3H5c-1.1 0-2 .9-2 2v14c0 1.1.9 2 2 2h14c1.1 0 2-.9 2-2V5c0-1.1-.9-2-2-2zM9 17H7v-7h2v7zm4 0h-2V7h2v10zm4 0h-2v-4h2v4z\"/>\n",
              "    </g>\n",
              "</svg>\n",
              "  </button>\n",
              "\n",
              "<style>\n",
              "  .colab-df-quickchart {\n",
              "      --bg-color: #E8F0FE;\n",
              "      --fill-color: #1967D2;\n",
              "      --hover-bg-color: #E2EBFA;\n",
              "      --hover-fill-color: #174EA6;\n",
              "      --disabled-fill-color: #AAA;\n",
              "      --disabled-bg-color: #DDD;\n",
              "  }\n",
              "\n",
              "  [theme=dark] .colab-df-quickchart {\n",
              "      --bg-color: #3B4455;\n",
              "      --fill-color: #D2E3FC;\n",
              "      --hover-bg-color: #434B5C;\n",
              "      --hover-fill-color: #FFFFFF;\n",
              "      --disabled-bg-color: #3B4455;\n",
              "      --disabled-fill-color: #666;\n",
              "  }\n",
              "\n",
              "  .colab-df-quickchart {\n",
              "    background-color: var(--bg-color);\n",
              "    border: none;\n",
              "    border-radius: 50%;\n",
              "    cursor: pointer;\n",
              "    display: none;\n",
              "    fill: var(--fill-color);\n",
              "    height: 32px;\n",
              "    padding: 0;\n",
              "    width: 32px;\n",
              "  }\n",
              "\n",
              "  .colab-df-quickchart:hover {\n",
              "    background-color: var(--hover-bg-color);\n",
              "    box-shadow: 0 1px 2px rgba(60, 64, 67, 0.3), 0 1px 3px 1px rgba(60, 64, 67, 0.15);\n",
              "    fill: var(--button-hover-fill-color);\n",
              "  }\n",
              "\n",
              "  .colab-df-quickchart-complete:disabled,\n",
              "  .colab-df-quickchart-complete:disabled:hover {\n",
              "    background-color: var(--disabled-bg-color);\n",
              "    fill: var(--disabled-fill-color);\n",
              "    box-shadow: none;\n",
              "  }\n",
              "\n",
              "  .colab-df-spinner {\n",
              "    border: 2px solid var(--fill-color);\n",
              "    border-color: transparent;\n",
              "    border-bottom-color: var(--fill-color);\n",
              "    animation:\n",
              "      spin 1s steps(1) infinite;\n",
              "  }\n",
              "\n",
              "  @keyframes spin {\n",
              "    0% {\n",
              "      border-color: transparent;\n",
              "      border-bottom-color: var(--fill-color);\n",
              "      border-left-color: var(--fill-color);\n",
              "    }\n",
              "    20% {\n",
              "      border-color: transparent;\n",
              "      border-left-color: var(--fill-color);\n",
              "      border-top-color: var(--fill-color);\n",
              "    }\n",
              "    30% {\n",
              "      border-color: transparent;\n",
              "      border-left-color: var(--fill-color);\n",
              "      border-top-color: var(--fill-color);\n",
              "      border-right-color: var(--fill-color);\n",
              "    }\n",
              "    40% {\n",
              "      border-color: transparent;\n",
              "      border-right-color: var(--fill-color);\n",
              "      border-top-color: var(--fill-color);\n",
              "    }\n",
              "    60% {\n",
              "      border-color: transparent;\n",
              "      border-right-color: var(--fill-color);\n",
              "    }\n",
              "    80% {\n",
              "      border-color: transparent;\n",
              "      border-right-color: var(--fill-color);\n",
              "      border-bottom-color: var(--fill-color);\n",
              "    }\n",
              "    90% {\n",
              "      border-color: transparent;\n",
              "      border-bottom-color: var(--fill-color);\n",
              "    }\n",
              "  }\n",
              "</style>\n",
              "\n",
              "  <script>\n",
              "    async function quickchart(key) {\n",
              "      const quickchartButtonEl =\n",
              "        document.querySelector('#' + key + ' button');\n",
              "      quickchartButtonEl.disabled = true;  // To prevent multiple clicks.\n",
              "      quickchartButtonEl.classList.add('colab-df-spinner');\n",
              "      try {\n",
              "        const charts = await google.colab.kernel.invokeFunction(\n",
              "            'suggestCharts', [key], {});\n",
              "      } catch (error) {\n",
              "        console.error('Error during call to suggestCharts:', error);\n",
              "      }\n",
              "      quickchartButtonEl.classList.remove('colab-df-spinner');\n",
              "      quickchartButtonEl.classList.add('colab-df-quickchart-complete');\n",
              "    }\n",
              "    (() => {\n",
              "      let quickchartButtonEl =\n",
              "        document.querySelector('#df-2a3c37db-f801-436a-9158-ba97e2584c60 button');\n",
              "      quickchartButtonEl.style.display =\n",
              "        google.colab.kernel.accessAllowed ? 'block' : 'none';\n",
              "    })();\n",
              "  </script>\n",
              "</div>\n",
              "    </div>\n",
              "  </div>\n"
            ]
          },
          "metadata": {},
          "execution_count": 19
        }
      ]
    },
    {
      "cell_type": "markdown",
      "source": [
        "Finding top 5 influencing stocks"
      ],
      "metadata": {
        "id": "6AE9uVW_ZBJb"
      }
    },
    {
      "cell_type": "code",
      "source": [
        "df = res.loc['eigen_portfolio_without_libraries k = 10 ']['portfolio_each_asset_daily_val']\n",
        "df.iloc[-1].sum()/df.iloc[0].sum()\n",
        "\n",
        "#attribution for top 5 winners\n",
        "ret_attr = (price_data.loc[df.index].pct_change()*(df.div(df.sum(axis=1),axis=0)).shift(1)+1).cumprod()\n",
        "top_five = ret_attr.iloc[-1].sort_values().iloc[-5:].index\n",
        "ret_attr[top_five].plot()"
      ],
      "metadata": {
        "colab": {
          "base_uri": "https://localhost:8080/",
          "height": 451
        },
        "id": "jKOf5EYTV1az",
        "outputId": "d553679a-4354-43a9-bfb6-b94492487012"
      },
      "execution_count": 21,
      "outputs": [
        {
          "output_type": "execute_result",
          "data": {
            "text/plain": [
              "<Axes: xlabel='Date'>"
            ]
          },
          "metadata": {},
          "execution_count": 21
        },
        {
          "output_type": "display_data",
          "data": {
            "text/plain": [
              "<Figure size 640x480 with 1 Axes>"
            ],
            "image/png": "[encoded data removed]"
          },
          "metadata": {}
        }
      ]
    },
    {
      "cell_type": "code",
      "source": [],
      "metadata": {
        "id": "KD97ppUEZpkt"
      },
      "execution_count": null,
      "outputs": []
    }
  ]
}